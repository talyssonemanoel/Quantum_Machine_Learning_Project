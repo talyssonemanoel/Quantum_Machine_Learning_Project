{
 "cells": [
  {
   "cell_type": "code",
   "execution_count": 2,
   "metadata": {},
   "outputs": [],
   "source": [
    "import qiskit"
   ]
  },
  {
   "cell_type": "code",
   "execution_count": 3,
   "metadata": {},
   "outputs": [
    {
     "data": {
      "text/plain": [
       "'1.0.2'"
      ]
     },
     "execution_count": 3,
     "metadata": {},
     "output_type": "execute_result"
    }
   ],
   "source": [
    "qiskit.__version__"
   ]
  },
  {
   "cell_type": "code",
   "execution_count": 4,
   "metadata": {},
   "outputs": [],
   "source": [
    "from qiskit_ibm_runtime import QiskitRuntimeService\n",
    "\n",
    "service = QiskitRuntimeService(channel=\"ibm_quantum\",\n",
    "                               token = \"d5c43c0331537939eef908a028f0b96addfc1622d33c4288c219c623aec21f97d6ed8b0a86c0ffcb011a583ab41e0b4637fb6bc67a9f4bebe2eedfece07fc501\")"
   ]
  },
  {
   "cell_type": "code",
   "execution_count": 5,
   "metadata": {},
   "outputs": [],
   "source": [
    "QiskitRuntimeService.save_account(channel=\"ibm_quantum\",\n",
    "                                    token = \"d5c43c0331537939eef908a028f0b96addfc1622d33c4288c219c623aec21f97d6ed8b0a86c0ffcb011a583ab41e0b4637fb6bc67a9f4bebe2eedfece07fc501\")"
   ]
  },
  {
   "cell_type": "code",
   "execution_count": 4,
   "metadata": {},
   "outputs": [],
   "source": [
    "backend = service.backend(name = \"ibm_brisbane\")"
   ]
  }
 ],
 "metadata": {
  "kernelspec": {
   "display_name": "my-first-quantum-project",
   "language": "python",
   "name": "python3"
  },
  "language_info": {
   "codemirror_mode": {
    "name": "ipython",
    "version": 3
   },
   "file_extension": ".py",
   "mimetype": "text/x-python",
   "name": "python",
   "nbconvert_exporter": "python",
   "pygments_lexer": "ipython3",
   "version": "3.12.3"
  }
 },
 "nbformat": 4,
 "nbformat_minor": 2
}
